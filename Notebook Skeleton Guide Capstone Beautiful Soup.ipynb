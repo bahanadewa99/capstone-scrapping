{
 "cells": [
  {
   "cell_type": "markdown",
   "metadata": {},
   "source": [
    "# Capstone Webscrapping using BeautifulSoup\n",
    "\n",
    "This notebook contains guidances & tasks on the data processing for the application\n",
    "\n",
    "(Please insert the background here )\n",
    "\n",
    "\n",
    "## Requesting the Data and Creating a BeautifulSoup\n",
    "\n",
    "Let's begin with requesting the web from the site with `get` method."
   ]
  },
  {
   "cell_type": "code",
   "execution_count": 1,
   "metadata": {
    "ExecuteTime": {
     "end_time": "2020-01-13T05:12:23.275508Z",
     "start_time": "2020-01-13T05:12:20.009898Z"
    }
   },
   "outputs": [],
   "source": [
    "import requests\n",
    "import re\n",
    "\n",
    "url_get = requests.get('https://www.exchange-rates.org/history/IDR/USD/T')"
   ]
  },
  {
   "cell_type": "markdown",
   "metadata": {},
   "source": [
    "To visualize what exactly you get from the `request.get`, we can use .content so ee what we exactly get, in here i slice it so it won't make our screen full of the html we get from the page. You can delete the slicing if you want to see what we fully get."
   ]
  },
  {
   "cell_type": "code",
   "execution_count": 2,
   "metadata": {
    "ExecuteTime": {
     "end_time": "2020-01-13T05:12:23.290648Z",
     "start_time": "2020-01-13T05:12:23.277650Z"
    }
   },
   "outputs": [
    {
     "data": {
      "text/plain": [
       "b'\\n<!DOCTYPE html>\\r\\n<!--[if lt IE 9]>\\r\\n    <html class=\"no-js ie8 oldie\" lang=\\'en\\' xml:lang=\\'en\\'>\\r\\n<![endif]-->\\r\\n<!--[if gt IE 8]><!--> <html class=\"no-js\" lang=\\'en\\' xml:lang=\\'en\\'> <!--<![endif]-->\\r\\n<head><title>Indonesian Rupiah Exchange Rate - US Dollar - Historical Exchange Rates</title>\\n<meta http-equiv=\"X-UA-Compatible\" content=\"IE=edge\">\\n<meta content=\"C#\" name=\"CODE_LANGUAGE\" />\\n<meta content=\"JavaScript\" name=\"vs_defaultClientScript\" />\\n<meta content=\"http://schemas.microsoft.com/intellisense/ie5\" name=\"vs_targetSchema\" />\\n<meta name=\"viewport\" content=\"width=device-width, initial-scale=1, maximum-scale=5\">\\n<meta http-equiv=\"Content-Type\" content=\"text/html; charset=utf-8\" />\\n\\n<meta name=\"mapping\" content=\"AP\" />\\n<base href=\"https://www.exchange-rates.org/\" />'"
      ]
     },
     "execution_count": 2,
     "metadata": {},
     "output_type": "execute_result"
    }
   ],
   "source": [
    "url_get.content[1:777]"
   ]
  },
  {
   "cell_type": "markdown",
   "metadata": {},
   "source": [
    "As we can see we get a very unstructured and complex html, which actually contains the codes needed to show the webpages on your web browser. But we as human still confused what and where we can use that piece of code, so here where we use the beautifulsoup. Beautiful soup class will result a beautifulsoup object. Beautiful Soup transforms a complex HTML document into a complex tree of Python objects. \n",
    "\n",
    "Let's make Beautiful soup object and feel free to explore the object here."
   ]
  },
  {
   "cell_type": "code",
   "execution_count": 3,
   "metadata": {
    "ExecuteTime": {
     "end_time": "2020-01-13T05:12:23.808122Z",
     "start_time": "2020-01-13T05:12:23.292610Z"
    }
   },
   "outputs": [
    {
     "name": "stdout",
     "output_type": "stream",
     "text": [
      "<class 'bs4.BeautifulSoup'>\n"
     ]
    }
   ],
   "source": [
    "from bs4 import BeautifulSoup \n",
    "\n",
    "soup = BeautifulSoup(url_get.content,\"html.parser\")\n",
    "print(type(soup))"
   ]
  },
  {
   "cell_type": "markdown",
   "metadata": {},
   "source": [
    "## Finding the right key to scrap the data & Extracting the right information"
   ]
  },
  {
   "cell_type": "markdown",
   "metadata": {},
   "source": [
    "Find the key and put the key into the `.find()` Put all the exploring the right key at this cell. (please change this markdown with your explanation)"
   ]
  },
  {
   "cell_type": "code",
   "execution_count": 4,
   "metadata": {
    "ExecuteTime": {
     "end_time": "2020-01-13T05:12:23.878904Z",
     "start_time": "2020-01-13T05:12:23.854974Z"
    }
   },
   "outputs": [
    {
     "name": "stdout",
     "output_type": "stream",
     "text": [
      "tbody>\n",
      " <tr>\n",
      "  <td>\n",
      "   3/4/2021\n",
      "  </td>\n",
      "  <td>\n",
      "   Thursday\n",
      "  </td>\n",
      "  <td>\n",
      "   <a href=\"/Rate/USD/IDR/3-4-2021\">\n",
      "    14,261.85426\n",
      "   </a>\n",
      "   IDR\n",
      "  </td>\n",
      "  <td class=\"text-narrow-screen-hidden\">\n",
      "   <a href=\"/Rate/USD/IDR/3-4-2021\">\n",
      "    USD IDR rate for 3/4/2021\n",
      "   </a>\n",
      "  </td>\n",
      " </tr>\n",
      " <tr>\n",
      "  <td>\n",
      "   3/3/2021\n",
      "  </td>\n",
      "  <td>\n",
      "   Wednesday\n",
      "  </td>\n",
      "  <td>\n",
      "   <a href=\"/Rate/USD/IDR/3-3-2021\">\n",
      "    14,257.29443\n",
      "   </a>\n",
      "   IDR\n",
      "  </td>\n",
      "  <td class=\"text-narrow-screen-hidden\">\n",
      "   <a href=\"/Rate/USD/IDR/3-3-2\n"
     ]
    }
   ],
   "source": [
    "table = soup.find(\"table\",attrs={\"class\":\"table table-striped table-hover table-hover-solid-row table-simple history-data\"})\n",
    "tablebody = table.find(\"tbody\")\n",
    "\n",
    "print(tablebody.prettify()[1:500])"
   ]
  },
  {
   "cell_type": "code",
   "execution_count": 5,
   "metadata": {},
   "outputs": [],
   "source": [
    "tr = tablebody.find_all(\"tr\",attrs={\"class\":\"\"})\n",
    "#tr[:30] "
   ]
  },
  {
   "cell_type": "markdown",
   "metadata": {},
   "source": [
    "Do the scrapping process here (please change this markdown with your explanation)"
   ]
  },
  {
   "cell_type": "code",
   "execution_count": 6,
   "metadata": {
    "ExecuteTime": {
     "end_time": "2020-01-13T05:12:24.008256Z",
     "start_time": "2020-01-13T05:12:23.980358Z"
    }
   },
   "outputs": [
    {
     "data": {
      "text/plain": [
       "[('3/3/2021', 'Wednesday', '14257.29443 '),\n",
       " ('3/2/2021', 'Tuesday', '14256.28041 '),\n",
       " ('3/1/2021', 'Monday', '14248.60576 '),\n",
       " ('2/26/2021', 'Friday', '14300.27815 '),\n",
       " ('2/25/2021', 'Thursday', '14139.73096 '),\n",
       " ('2/24/2021', 'Wednesday', '14083.03673 '),\n",
       " ('2/23/2021', 'Tuesday', '14092.64503 '),\n",
       " ('2/22/2021', 'Monday', '14118.07274 '),\n",
       " ('2/19/2021', 'Friday', '14066.79375 '),\n",
       " ('2/18/2021', 'Thursday', '14013.51318 '),\n",
       " ('2/17/2021', 'Wednesday', '14015.16095 '),\n",
       " ('2/16/2021', 'Tuesday', '13935.96629 '),\n",
       " ('2/15/2021', 'Monday', '13918.18725 '),\n",
       " ('2/12/2021', 'Friday', '13988.54710 '),\n",
       " ('2/11/2021', 'Thursday', '13982.27900 '),\n",
       " ('2/10/2021', 'Wednesday', '13994.09212 '),\n",
       " ('2/9/2021', 'Tuesday', '13920.52018 '),\n",
       " ('2/8/2021', 'Monday', '14007.25257 '),\n",
       " ('2/5/2021', 'Friday', '14008.99630 '),\n",
       " ('2/4/2021', 'Thursday', '14020.87878 '),\n",
       " ('2/3/2021', 'Wednesday', '13997.60682 '),\n",
       " ('2/2/2021', 'Tuesday', '14004.60175 '),\n",
       " ('2/1/2021', 'Monday', '14025.27450 '),\n",
       " ('1/29/2021', 'Friday', '14027.32457 '),\n",
       " ('1/28/2021', 'Thursday', '14048.06146 '),\n",
       " ('1/27/2021', 'Wednesday', '14048.72649 '),\n",
       " ('1/26/2021', 'Tuesday', '14062.91108 '),\n",
       " ('1/25/2021', 'Monday', '14021.11609 '),\n",
       " ('1/22/2021', 'Friday', '14025.60268 '),\n",
       " ('1/21/2021', 'Thursday', '13964.91920 '),\n",
       " ('1/20/2021', 'Wednesday', '14021.43046 '),\n",
       " ('1/19/2021', 'Tuesday', '14063.60877 '),\n",
       " ('1/18/2021', 'Monday', '14055.43768 '),\n",
       " ('1/15/2021', 'Friday', '14153.46654 '),\n",
       " ('1/14/2021', 'Thursday', '14070.58746 '),\n",
       " ('1/13/2021', 'Wednesday', '14125.90174 '),\n",
       " ('1/12/2021', 'Tuesday', '14074.81444 '),\n",
       " ('1/11/2021', 'Monday', '14137.24151 '),\n",
       " ('1/8/2021', 'Friday', '13991.16348 '),\n",
       " ('1/7/2021', 'Thursday', '13905.64377 '),\n",
       " ('1/6/2021', 'Wednesday', '13861.51463 '),\n",
       " ('1/5/2021', 'Tuesday', '13906.05686 '),\n",
       " ('1/4/2021', 'Monday', '14015.86887 '),\n",
       " ('1/1/2021', 'Friday', '14213.67526 '),\n",
       " ('12/31/2020', 'Thursday', '14120.57461 '),\n",
       " ('12/30/2020', 'Wednesday', '14020.01350 '),\n",
       " ('12/29/2020', 'Tuesday', '14108.18177 '),\n",
       " ('12/28/2020', 'Monday', '14139.81753 '),\n",
       " ('12/25/2020', 'Friday', '14211.65343 '),\n",
       " ('12/24/2020', 'Thursday', '14188.41293 '),\n",
       " ('12/23/2020', 'Wednesday', '14183.64082 '),\n",
       " ('12/22/2020', 'Tuesday', '14164.98134 '),\n",
       " ('12/21/2020', 'Monday', '14124.20148 '),\n",
       " ('12/18/2020', 'Friday', '14101.05758 '),\n",
       " ('12/17/2020', 'Thursday', '14101.72807 '),\n",
       " ('12/16/2020', 'Wednesday', '14084.50704 '),\n",
       " ('12/15/2020', 'Tuesday', '14124.19150 '),\n",
       " ('12/14/2020', 'Monday', '14087.17417 '),\n",
       " ('12/11/2020', 'Friday', '14076.36739 '),\n",
       " ('12/10/2020', 'Thursday', '14103.70444 '),\n",
       " ('12/9/2020', 'Wednesday', '14096.39851 '),\n",
       " ('12/8/2020', 'Tuesday', '14105.04229 '),\n",
       " ('12/7/2020', 'Monday', '14103.58039 '),\n",
       " ('12/4/2020', 'Friday', '14092.75807 '),\n",
       " ('12/3/2020', 'Thursday', '14109.15139 '),\n",
       " ('12/2/2020', 'Wednesday', '14094.65785 '),\n",
       " ('12/1/2020', 'Tuesday', '14118.51435 '),\n",
       " ('11/30/2020', 'Monday', '14114.11663 '),\n",
       " ('11/27/2020', 'Friday', '14078.12448 '),\n",
       " ('11/26/2020', 'Thursday', '14090.70769 '),\n",
       " ('11/25/2020', 'Wednesday', '14136.09929 '),\n",
       " ('11/24/2020', 'Tuesday', '14137.48161 '),\n",
       " ('11/23/2020', 'Monday', '14185.57119 '),\n",
       " ('11/20/2020', 'Friday', '14162.60519 '),\n",
       " ('11/19/2020', 'Thursday', '14165.50144 '),\n",
       " ('11/18/2020', 'Wednesday', '14051.29503 '),\n",
       " ('11/17/2020', 'Tuesday', '14040.16051 '),\n",
       " ('11/16/2020', 'Monday', '14085.69501 '),\n",
       " ('11/13/2020', 'Friday', '14142.77143 '),\n",
       " ('11/12/2020', 'Thursday', '14141.24303 '),\n",
       " ('11/11/2020', 'Wednesday', '14073.46024 '),\n",
       " ('11/10/2020', 'Tuesday', '14053.76135 '),\n",
       " ('11/9/2020', 'Monday', '14283.29667 '),\n",
       " ('11/6/2020', 'Friday', '14214.49744 '),\n",
       " ('11/5/2020', 'Thursday', '14389.14027 '),\n",
       " ('11/4/2020', 'Wednesday', '14544.44634 '),\n",
       " ('11/3/2020', 'Tuesday', '14589.01774 '),\n",
       " ('11/2/2020', 'Monday', '14612.89990 '),\n",
       " ('10/30/2020', 'Friday', '14629.16216 '),\n",
       " ('10/29/2020', 'Thursday', '14701.62361 '),\n",
       " ('10/28/2020', 'Wednesday', '14701.92586 '),\n",
       " ('10/27/2020', 'Tuesday', '14649.78960 '),\n",
       " ('10/26/2020', 'Monday', '14652.88010 '),\n",
       " ('10/23/2020', 'Friday', '14655.04157 '),\n",
       " ('10/22/2020', 'Thursday', '14647.90877 '),\n",
       " ('10/21/2020', 'Wednesday', '14641.61060 '),\n",
       " ('10/20/2020', 'Tuesday', '14555.88071 '),\n",
       " ('10/19/2020', 'Monday', '14705.13256 '),\n",
       " ('10/16/2020', 'Friday', '14688.43616 '),\n",
       " ('10/15/2020', 'Thursday', '14667.95340 '),\n",
       " ('10/14/2020', 'Wednesday', '14696.21912 '),\n",
       " ('10/13/2020', 'Tuesday', '14687.35100 '),\n",
       " ('10/12/2020', 'Monday', '14677.85296 '),\n",
       " ('10/9/2020', 'Friday', '14679.27910 '),\n",
       " ('10/8/2020', 'Thursday', '14692.93025 '),\n",
       " ('10/7/2020', 'Wednesday', '14705.58246 '),\n",
       " ('10/6/2020', 'Tuesday', '14857.67854 '),\n",
       " ('10/5/2020', 'Monday', '14797.90178 '),\n",
       " ('10/2/2020', 'Friday', '14852.30483 '),\n",
       " ('10/1/2020', 'Thursday', '14822.66605 '),\n",
       " ('9/30/2020', 'Wednesday', '14867.44686 '),\n",
       " ('9/29/2020', 'Tuesday', '14880.93210 '),\n",
       " ('9/28/2020', 'Monday', '14892.32194 '),\n",
       " ('9/27/2020', 'Sunday', '14859.98349 '),\n",
       " ('9/25/2020', 'Friday', '14855.63943 '),\n",
       " ('9/24/2020', 'Thursday', '14888.78607 '),\n",
       " ('9/23/2020', 'Wednesday', '14825.54899 '),\n",
       " ('9/22/2020', 'Tuesday', '14751.85786 '),\n",
       " ('9/21/2020', 'Monday', '14701.43420 '),\n",
       " ('9/20/2020', 'Sunday', '14728.84529 '),\n",
       " ('9/18/2020', 'Friday', '14730.71792 '),\n",
       " ('9/17/2020', 'Thursday', '14829.41738 '),\n",
       " ('9/16/2020', 'Wednesday', '14807.88761 '),\n",
       " ('9/15/2020', 'Tuesday', '14843.44670 '),\n",
       " ('9/14/2020', 'Monday', '14864.65988 '),\n",
       " ('9/13/2020', 'Sunday', '14876.45021 '),\n",
       " ('9/11/2020', 'Friday', '14865.27553 '),\n",
       " ('9/10/2020', 'Thursday', '14871.58664 '),\n",
       " ('9/9/2020', 'Wednesday', '14783.50009 '),\n",
       " ('9/8/2020', 'Tuesday', '14839.54267 '),\n",
       " ('9/7/2020', 'Monday', '14743.92989 '),\n",
       " ('9/6/2020', 'Sunday', '14754.95155 ')]"
      ]
     },
     "execution_count": 6,
     "metadata": {},
     "output_type": "execute_result"
    }
   ],
   "source": [
    "temp = [] #initiating a tuple\n",
    "\n",
    "for i in range(1, len(tr)):\n",
    "    row = table.find_all(\"tr\",attrs={\"class\":\"\"})[i]\n",
    "        \n",
    "    #scrapping process\n",
    "    \n",
    "    #getDate\n",
    "    date = row.find_all(\"td\")[0].text\n",
    "    date = date.strip()\n",
    "        \n",
    "    #getDayName\n",
    "    dayName = row.find_all(\"td\")[1].text\n",
    "    dayName = dayName.strip()\n",
    "    \n",
    "    #getKurs\n",
    "    kurs = row.find_all(\"td\")[2].text\n",
    "    kurs = kurs.replace(\"IDR\",\"\")\n",
    "    kurs = kurs.replace(',','')\n",
    "\n",
    "    \n",
    "    temp.append((date,dayName,kurs))\n",
    "    \n",
    "    \n",
    "temp"
   ]
  },
  {
   "cell_type": "markdown",
   "metadata": {},
   "source": [
    "## Creating data frame & Data wrangling"
   ]
  },
  {
   "cell_type": "markdown",
   "metadata": {},
   "source": [
    "Put the array into dataframe"
   ]
  },
  {
   "cell_type": "code",
   "execution_count": 23,
   "metadata": {
    "ExecuteTime": {
     "end_time": "2020-01-13T05:12:41.517372Z",
     "start_time": "2020-01-13T05:12:29.130015Z"
    }
   },
   "outputs": [
    {
     "data": {
      "text/html": [
       "<div>\n",
       "<style scoped>\n",
       "    .dataframe tbody tr th:only-of-type {\n",
       "        vertical-align: middle;\n",
       "    }\n",
       "\n",
       "    .dataframe tbody tr th {\n",
       "        vertical-align: top;\n",
       "    }\n",
       "\n",
       "    .dataframe thead th {\n",
       "        text-align: right;\n",
       "    }\n",
       "</style>\n",
       "<table border=\"1\" class=\"dataframe\">\n",
       "  <thead>\n",
       "    <tr style=\"text-align: right;\">\n",
       "      <th></th>\n",
       "      <th>tanggal</th>\n",
       "      <th>kurs</th>\n",
       "    </tr>\n",
       "    <tr>\n",
       "      <th>hari</th>\n",
       "      <th></th>\n",
       "      <th></th>\n",
       "    </tr>\n",
       "  </thead>\n",
       "  <tbody>\n",
       "    <tr>\n",
       "      <th>Wednesday</th>\n",
       "      <td>2021-03-03</td>\n",
       "      <td>14257.29443</td>\n",
       "    </tr>\n",
       "    <tr>\n",
       "      <th>Tuesday</th>\n",
       "      <td>2021-03-02</td>\n",
       "      <td>14256.28041</td>\n",
       "    </tr>\n",
       "    <tr>\n",
       "      <th>Monday</th>\n",
       "      <td>2021-03-01</td>\n",
       "      <td>14248.60576</td>\n",
       "    </tr>\n",
       "    <tr>\n",
       "      <th>Friday</th>\n",
       "      <td>2021-02-26</td>\n",
       "      <td>14300.27815</td>\n",
       "    </tr>\n",
       "    <tr>\n",
       "      <th>Thursday</th>\n",
       "      <td>2021-02-25</td>\n",
       "      <td>14139.73096</td>\n",
       "    </tr>\n",
       "    <tr>\n",
       "      <th>...</th>\n",
       "      <td>...</td>\n",
       "      <td>...</td>\n",
       "    </tr>\n",
       "    <tr>\n",
       "      <th>Thursday</th>\n",
       "      <td>2020-09-10</td>\n",
       "      <td>14871.58664</td>\n",
       "    </tr>\n",
       "    <tr>\n",
       "      <th>Wednesday</th>\n",
       "      <td>2020-09-09</td>\n",
       "      <td>14783.50009</td>\n",
       "    </tr>\n",
       "    <tr>\n",
       "      <th>Tuesday</th>\n",
       "      <td>2020-09-08</td>\n",
       "      <td>14839.54267</td>\n",
       "    </tr>\n",
       "    <tr>\n",
       "      <th>Monday</th>\n",
       "      <td>2020-09-07</td>\n",
       "      <td>14743.92989</td>\n",
       "    </tr>\n",
       "    <tr>\n",
       "      <th>Sunday</th>\n",
       "      <td>2020-09-06</td>\n",
       "      <td>14754.95155</td>\n",
       "    </tr>\n",
       "  </tbody>\n",
       "</table>\n",
       "<p>132 rows × 2 columns</p>\n",
       "</div>"
      ],
      "text/plain": [
       "             tanggal         kurs\n",
       "hari                             \n",
       "Wednesday 2021-03-03  14257.29443\n",
       "Tuesday   2021-03-02  14256.28041\n",
       "Monday    2021-03-01  14248.60576\n",
       "Friday    2021-02-26  14300.27815\n",
       "Thursday  2021-02-25  14139.73096\n",
       "...              ...          ...\n",
       "Thursday  2020-09-10  14871.58664\n",
       "Wednesday 2020-09-09  14783.50009\n",
       "Tuesday   2020-09-08  14839.54267\n",
       "Monday    2020-09-07  14743.92989\n",
       "Sunday    2020-09-06  14754.95155\n",
       "\n",
       "[132 rows x 2 columns]"
      ]
     },
     "execution_count": 23,
     "metadata": {},
     "output_type": "execute_result"
    }
   ],
   "source": [
    "import pandas as pd\n",
    "\n",
    "df = pd.DataFrame(temp)\n",
    "df.columns=[\"tanggal\",\"hari\",\"kurs\"]\n",
    "df[\"tanggal\"]=df[\"tanggal\"].astype('datetime64')\n",
    "df[\"hari\"]=df[\"hari\"].astype('category')\n",
    "df[\"kurs\"]=df[\"kurs\"].astype('float64')\n",
    "\n",
    "df.set_index('hari')"
   ]
  },
  {
   "cell_type": "markdown",
   "metadata": {},
   "source": [
    "Do the data cleaning here (please change this markdown with your explanation of what you do for data wrangling)"
   ]
  },
  {
   "cell_type": "markdown",
   "metadata": {
    "ExecuteTime": {
     "end_time": "2020-01-13T05:12:59.165559Z",
     "start_time": "2020-01-13T05:12:58.910012Z"
    }
   },
   "source": [
    "- - merubah tipe tanggal dengan datetime\n",
    "- - untuk kolom kurs hilangkan koma dan ubah menjadi float\n"
   ]
  },
  {
   "cell_type": "markdown",
   "metadata": {},
   "source": [
    "### Implementing your webscrapping to the flask dashboard\n",
    "\n",
    "- Copy paste all of your web scrapping process to the desired position on the `app.py`\n",
    "- Changing the title of the dasboard at `index.html`"
   ]
  },
  {
   "cell_type": "markdown",
   "metadata": {},
   "source": [
    "## Finishing This Notebook with Your Analysis and Conclusion\n",
    "\n",
    "First you can do start with making the data visualisation. "
   ]
  },
  {
   "cell_type": "code",
   "execution_count": 20,
   "metadata": {
    "ExecuteTime": {
     "end_time": "2020-01-13T05:20:56.208237Z",
     "start_time": "2020-01-13T05:20:56.076043Z"
    }
   },
   "outputs": [
    {
     "data": {
      "text/plain": [
       "Text(0, 0.5, 'Kurs')"
      ]
     },
     "execution_count": 20,
     "metadata": {},
     "output_type": "execute_result"
    },
    {
     "data": {
      "image/png": "[encoded data removed]",
      "text/plain": [
       "<Figure size 432x288 with 1 Axes>"
      ]
     },
     "metadata": {
      "needs_background": "light"
     },
     "output_type": "display_data"
    }
   ],
   "source": [
    "data = df[[\"hari\",\"kurs\"]].plot(title='Harga kurs setiap hari')\n",
    "data.set_xlabel(\"Hari\")\n",
    "data.set_ylabel(\"Kurs\")\n",
    "\n"
   ]
  },
  {
   "cell_type": "markdown",
   "metadata": {},
   "source": [
    "\n",
    "(Put your analysis and conclusion here.)\n",
    "\n"
   ]
  },
  {
   "cell_type": "markdown",
   "metadata": {},
   "source": [
    "### Extra Challange\n",
    "\n",
    "This will be not included to the scoring. \n",
    "\n",
    "- You can create additional analysis from the data.\n",
    "- Implement it to the dashboard with at `app.py` dan `index.html`."
   ]
  }
 ],
 "metadata": {
  "kernelspec": {
   "display_name": "Python 3",
   "language": "python",
   "name": "python3"
  },
  "language_info": {
   "codemirror_mode": {
    "name": "ipython",
    "version": 3
   },
   "file_extension": ".py",
   "mimetype": "text/x-python",
   "name": "python",
   "nbconvert_exporter": "python",
   "pygments_lexer": "ipython3",
   "version": "3.8.5"
  }
 },
 "nbformat": 4,
 "nbformat_minor": 2
}
